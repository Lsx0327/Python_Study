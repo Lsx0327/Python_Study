{
 "cells": [
  {
   "cell_type": "code",
   "execution_count": 66,
   "id": "660fddf1",
   "metadata": {},
   "outputs": [],
   "source": [
    "import matplotlib.pyplot as plt\n",
    "import numpy as np\n",
    "import pandas as pd\n",
    "from sklearn.metrics import mean_squared_error\n",
    "from sklearn.model_selection import train_test_split"
   ]
  },
  {
   "cell_type": "code",
   "execution_count": 67,
   "id": "9954024a",
   "metadata": {},
   "outputs": [],
   "source": [
    "df = pd.read_csv('timing_flattern_3列.csv')"
   ]
  },
  {
   "cell_type": "code",
   "execution_count": 68,
   "id": "15da1fbb",
   "metadata": {},
   "outputs": [],
   "source": [
    "def get_ratings_matrix(df, train_size=0.75):\n",
    "    user_to_row = {}\n",
    "    movie_to_column = {}\n",
    "    df_values = df.values[:,1:]\n",
    "    n_dims = 10\n",
    "    parameters = {}\n",
    "\n",
    "    uniq_users = np.unique(df_values[:,0])\n",
    "    uniq_movies = np.unique(df_values[:,1])\n",
    "\n",
    "    for i, user_id in enumerate(uniq_users):\n",
    "        user_to_row[user_id] = i\n",
    "\n",
    "    for j, movie_id in enumerate(uniq_movies):\n",
    "        movie_to_column[movie_id] = j\n",
    "\n",
    "    n_users = len(uniq_users)\n",
    "    n_movies = len(uniq_movies)\n",
    "\n",
    "    R = np.zeros((n_users, n_movies))\n",
    "\n",
    "#     df_copy = df.copy()\n",
    "#     train_set = df_copy.sample(frac=train_size, random_state=0)\n",
    "#     test_set = df_copy.drop(train_set.index)\n",
    "    train_set,test_set = train_test_split(df_values, test_size=0.2)\n",
    "    for r in train_set:\n",
    "        i = r[0]\n",
    "        j = r[1]\n",
    "        R[int(i),int(j)] = r[2]\n",
    "\n",
    "    return R, train_set, test_set, n_dims, n_users, n_movies, user_to_row, movie_to_column\n"
   ]
  },
  {
   "cell_type": "code",
   "execution_count": 69,
   "id": "425fd586",
   "metadata": {},
   "outputs": [
    {
     "name": "stdout",
     "output_type": "stream",
     "text": [
      "R.shape (1500, 18)\n",
      "n_users: 1500\n",
      "n_movies: 18\n"
     ]
    }
   ],
   "source": [
    "R, train_set, test_set, n_dims, n_users, n_movies, user_to_row, movie_to_column = get_ratings_matrix(df, 0.8)\n",
    "\n",
    "print(\"R.shape\",R.shape)\n",
    "print(\"n_users:\",n_users)\n",
    "print(\"n_movies:\",n_movies)\n",
    "# print(\"user_to_row:\",user_to_row)\n",
    "# print(\"movie_to_column:\",movie_to_column)\n",
    "# print(\"R:\",R)"
   ]
  },
  {
   "cell_type": "code",
   "execution_count": 70,
   "id": "65db7826",
   "metadata": {},
   "outputs": [],
   "source": [
    "parameters = {}\n",
    "\n",
    "\n",
    "# 初始化U，V\n",
    "def initialize_parameters(lambda_U, lambda_V):\n",
    "    U = np.zeros((n_dims, n_users), dtype=np.float64)\n",
    "    V = np.random.normal(0.0, 1.0 / lambda_V, (n_dims, n_movies))\n",
    "    \n",
    "    parameters['U'] = U\n",
    "    parameters['V'] = V\n",
    "    parameters['lambda_U'] = lambda_U\n",
    "    parameters['lambda_V'] = lambda_V"
   ]
  },
  {
   "cell_type": "code",
   "execution_count": 71,
   "id": "963ab04a",
   "metadata": {},
   "outputs": [],
   "source": [
    "#更新U，V\n",
    "def update_parameters():\n",
    "    U = parameters['U']\n",
    "    V = parameters['V']\n",
    "    lambda_U = parameters['lambda_U']\n",
    "    lambda_V = parameters['lambda_V']\n",
    "    \n",
    "    for i in range(n_users):\n",
    "        V_j = V[:, R[i, :] > 0]\n",
    "        U[:, i] = np.dot(np.linalg.inv(np.dot(V_j, V_j.T) + lambda_U * np.identity(n_dims)), np.dot(R[i, R[i, :] > 0], V_j.T))\n",
    "        \n",
    "    for j in range(n_movies):\n",
    "        U_i = U[:, R[:, j] > 0]\n",
    "        V[:, j] = np.dot(np.linalg.inv(np.dot(U_i, U_i.T) + lambda_V * np.identity(n_dims)), np.dot(R[R[:, j] > 0, j], U_i.T))\n",
    "        \n",
    "    parameters['U'] = U\n",
    "    parameters['V'] = V"
   ]
  },
  {
   "cell_type": "code",
   "execution_count": 72,
   "id": "f49447e3",
   "metadata": {},
   "outputs": [],
   "source": [
    "# let's implement the Log-a posteriori:\n",
    "\n",
    "def log_a_posteriori():\n",
    "    lambda_U = parameters['lambda_U']\n",
    "    lambda_V = parameters['lambda_V']\n",
    "    U = parameters['U']\n",
    "    V = parameters['V']\n",
    "    \n",
    "    UV = np.dot(U.T, V)\n",
    "    R_UV = (R[R > 0] - UV[R > 0])\n",
    "    \n",
    "    return -0.5 * (np.sum(np.dot(R_UV, R_UV.T)) + lambda_U * np.sum(np.dot(U, U.T)) + lambda_V * np.sum(np.dot(V, V.T)))"
   ]
  },
  {
   "cell_type": "markdown",
   "id": "bb7a68f1",
   "metadata": {},
   "source": [
    "predict function allows us to predict the rating value given the user_id and the movie_id parameters. The value has been scaled within the range 0-5\n"
   ]
  },
  {
   "cell_type": "code",
   "execution_count": 73,
   "id": "26a1e89c",
   "metadata": {},
   "outputs": [],
   "source": [
    "def predict(user_id, movie_id):\n",
    "    U = parameters['U']\n",
    "    V = parameters['V']\n",
    "    \n",
    "    r_ij = U[:, user_to_row[user_id]].T.reshape(1, -1) @ V[:, movie_to_column[movie_id]].reshape(-1, 1)\n",
    "\n",
    "    max_rating = parameters['max_rating']\n",
    "    min_rating = parameters['min_rating']\n",
    "\n",
    "    return 0 if max_rating == min_rating else ((r_ij[0][0] - min_rating) / (max_rating - min_rating)) * 5.0"
   ]
  },
  {
   "cell_type": "markdown",
   "id": "9ddbc0a3",
   "metadata": {},
   "source": [
    "The evaluate function will calculate the RMSE of the model given a dataset (train or test).\n"
   ]
  },
  {
   "cell_type": "code",
   "execution_count": 74,
   "id": "8cf1e1d1",
   "metadata": {},
   "outputs": [],
   "source": [
    "def evaluate(dataset):\n",
    "    ground_truths = []\n",
    "    predictions = []\n",
    "    \n",
    "    for index, row in dataset.iterrows():\n",
    "        ground_truths.append(row.loc['rating'])\n",
    "        predictions.append(predict(row.loc['userId'], row.loc['movieId']))\n",
    "    \n",
    "    return mean_squared_error(ground_truths, predictions, squared=False)"
   ]
  },
  {
   "cell_type": "code",
   "execution_count": null,
   "id": "92a3fc52",
   "metadata": {},
   "outputs": [],
   "source": []
  }
 ],
 "metadata": {
  "kernelspec": {
   "display_name": "Python [conda env:myML] *",
   "language": "python",
   "name": "conda-env-myML-py"
  },
  "language_info": {
   "codemirror_mode": {
    "name": "ipython",
    "version": 3
   },
   "file_extension": ".py",
   "mimetype": "text/x-python",
   "name": "python",
   "nbconvert_exporter": "python",
   "pygments_lexer": "ipython3",
   "version": "3.9.12"
  }
 },
 "nbformat": 4,
 "nbformat_minor": 5
}
